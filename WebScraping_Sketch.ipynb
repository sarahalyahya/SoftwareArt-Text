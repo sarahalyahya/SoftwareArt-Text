{
  "nbformat": 4,
  "nbformat_minor": 0,
  "metadata": {
    "colab": {
      "name": "Software Art - Web Scraping Sketch",
      "provenance": [],
      "authorship_tag": "ABX9TyPd03MJMdJOa0YiFlQst+tW",
      "include_colab_link": true
    },
    "kernelspec": {
      "name": "python3",
      "display_name": "Python 3"
    }
  },
  "cells": [
    {
      "cell_type": "markdown",
      "metadata": {
        "id": "view-in-github",
        "colab_type": "text"
      },
      "source": [
        "<a href=\"https://colab.research.google.com/github/sarahalyahya/SoftwareArt-Text/blob/main/WebScraping_Sketch.ipynb\" target=\"_parent\"><img src=\"https://colab.research.google.com/assets/colab-badge.svg\" alt=\"Open In Colab\"/></a>"
      ]
    },
    {
      "cell_type": "markdown",
      "metadata": {
        "id": "ZijZeDBENs1S"
      },
      "source": [
        "##Web Scraping | Sarah Al-Yahya\n",
        "####a randomly generated playlist, for you.\n",
        "For this updated version of the exercise, I decided to go on bandcamp, and scrape the different genre pages as I found out that they were very well-marked in HTML. I am also a big fan of making my friends playlists so I thought I could use web scraping to generate random and unique playlist. I chose 8 genres or tags and put them in a list. Then, I generated another list that contains a random mix of genres to ensure a unique playlist. I then used that list to customize the target url, based on what the genre is, the corresponding tag webpage is scraped, and then a random song and artist is scraped from that page and included in the playlist. Happy listening :-)!"
      ]
    },
    {
      "cell_type": "code",
      "metadata": {
        "id": "pQC3MscnZ3qi"
      },
      "source": [
        "import requests\n",
        "import random\n",
        "from bs4 import BeautifulSoup"
      ],
      "execution_count": null,
      "outputs": []
    },
    {
      "cell_type": "code",
      "metadata": {
        "colab": {
          "base_uri": "https://localhost:8080/"
        },
        "id": "svEOT9SObEPA",
        "outputId": "ed91d295-012e-415e-9377-b05ddc97c47f"
      },
      "source": [
        "genres = [\"pop\", \"alternative\", \"jazz\",\"folk\", \"rock\",\"experimental\",\"indie\",\"punk\"]\n",
        "i = 0\n",
        "##print(len(genres))\n",
        "playlistGenres = []\n",
        "for i in range (11):\n",
        "  thisSong = genres[random.randint(0,len(genres)-1)]\n",
        "  playlistGenres.append(thisSong)\n",
        "  i+=1\n",
        "\n",
        "print(playlistGenres)\n",
        "                  \n",
        "                        "
      ],
      "execution_count": null,
      "outputs": [
        {
          "output_type": "stream",
          "text": [
            "['jazz', 'indie', 'rock', 'experimental', 'punk', 'punk', 'alternative', 'alternative', 'punk', 'rock', 'alternative']\n"
          ],
          "name": "stdout"
        }
      ]
    },
    {
      "cell_type": "code",
      "metadata": {
        "id": "DjAAcZ8BLA2E"
      },
      "source": [
        ""
      ],
      "execution_count": null,
      "outputs": []
    },
    {
      "cell_type": "code",
      "metadata": {
        "colab": {
          "base_uri": "https://localhost:8080/"
        },
        "id": "TLXk2oB3dXkx",
        "outputId": "68fdc6db-e801-4ef1-ed79-896d47371939"
      },
      "source": [
        "playlist = []\n",
        "for x in range(len(playlistGenres)):\n",
        "  target_url= \"https://bandcamp.com/tag/\" + playlistGenres[x]\n",
        "  req = requests.get(target_url)\n",
        "  ## if req.status_code == 200:\n",
        "    ##print(\"success!\")\n",
        "  ##else:\n",
        "    ##print(\"something went wrong, response code %i\" % req.status_code) \n",
        "  soup = BeautifulSoup(req.content, 'html.parser')\n",
        "  song_titles = soup.find_all('div', class_= 'title')\n",
        "  \n",
        " \n",
        "  artists = soup.find_all('div', class_ = 'artist')\n",
        "\n",
        "\n",
        "   \n",
        "  chosenSongVar = random.randint(0,15)\n",
        "  \n",
        "  songTitle = (song_titles[chosenSongVar].text).strip()\n",
        "  artist = (artists[chosenSongVar].text).strip()\n",
        "  song = songTitle + \" \" + artist\n",
        "  \n",
        "  if song not in playlist:\n",
        "    playlist.append(song)\n",
        "\n",
        "\n",
        "\n",
        "\n",
        "\n",
        "\n",
        "print(\"********randomly generated playlist, for you********\\n\")\n",
        "for y in range (len(playlist)-1):\n",
        "  print(str(y+1) + \".\" + \" \" + playlist[y]+ \"\\n\")\n",
        "\n",
        "\n",
        " "
      ],
      "execution_count": null,
      "outputs": [
        {
          "output_type": "stream",
          "text": [
            "********randomly generated playlist, for you********\n",
            "\n",
            "1. Quarantine Album: Unreleased B-Sides by Tuba Skinny\n",
            "\n",
            "2. At The Moonbase by The Mountain Goats\n",
            "\n",
            "3. X'ed by Mike Huguenor\n",
            "\n",
            "4. Ainu Mosir by Clarice Jensen\n",
            "\n",
            "5. \"I’m Pretty Sure I Would Know If Reality Were Fundamentally Different Than I Perceived It To Be\" EP by Xylitol\n",
            "\n",
            "6. Mass Deception by Dogshite\n",
            "\n",
            "7. Elliott Smith by Elliott Smith\n",
            "\n",
            "8. Melody of Certain Damaged Lemons by Blonde Redhead\n",
            "\n",
            "9. Waving Goodbye/ Married To Your Mind by THE LIQUIDATORS\n",
            "\n"
          ],
          "name": "stdout"
        }
      ]
    }
  ]
}