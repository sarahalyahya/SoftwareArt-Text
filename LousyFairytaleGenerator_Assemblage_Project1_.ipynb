{
  "nbformat": 4,
  "nbformat_minor": 0,
  "metadata": {
    "colab": {
      "name": "Assemblage | Lousy Fairytale Generator.ipynb",
      "provenance": [],
      "collapsed_sections": [],
      "authorship_tag": "ABX9TyNrCsukteDCaOXyGRsC+Xjp",
      "include_colab_link": true
    },
    "kernelspec": {
      "name": "python3",
      "display_name": "Python 3"
    }
  },
  "cells": [
    {
      "cell_type": "markdown",
      "metadata": {
        "id": "view-in-github",
        "colab_type": "text"
      },
      "source": [
        "<a href=\"https://colab.research.google.com/github/sarahalyahya/SoftwareArt-Text/blob/main/LousyFairytaleGenerator_Assemblage_Project1_.ipynb\" target=\"_parent\"><img src=\"https://colab.research.google.com/assets/colab-badge.svg\" alt=\"Open In Colab\"/></a>"
      ]
    },
    {
      "cell_type": "markdown",
      "metadata": {
        "id": "K6VUu3uaAS_b"
      },
      "source": [
        "#Lousy Fairytale Plot Generator | Sarah Al-Yahya\n",
        "*scroll to the end and click run to check the presentation first!*\n",
        "##Idea\n",
        "For this project, I spent a lot of time browsing through project gutenberg. While I was doing that, I got a an urge to look up what kind of children's books are on the website, inspired by a phone call with my niece. My niece is a very curious child, and I can only imagine that by the time she starts getting interested in stories and fairytales, her curiosity will mean that her parents will run out of made-up stories to tell her. So, I wanted to create a tool that helps them, well kind of...I wanted to capture that confused tone that parents have sometimes when they make up a story as they go. \n",
        "##Research\n",
        "What makes a fairytale? A google search led to Missouri Southern State University's [website](https://libguides.mssu.edu/c.php?g=185298&p=1223898#:~:text=The%20basic%20structure%20of%20a,a%20solution%20can%20be%20found.). To summarize, the page explains that a fairy tale's main elements are:\n",
        "\n",
        "\n",
        "*   Characters\n",
        "*   The Moral Lesson\n",
        "*   Obstacles\n",
        "*   Magic\n",
        "* A Happily Ever After\n",
        "\n",
        "So, these elements formed the structure of my output. \n",
        "\n",
        "##Elements\n",
        "*(More specific comments are in the code)*\n",
        "####Characters\n",
        "For the characters, I scraped a few pages from a website called World of Tales. I chose it over Project Gutenberg as I found the HTML easier to work with. The program picks a random fairytale from the ones I have in an array, parses the HTML, finds all paragraphs and cleans them from new line and trailing characters before appending them to a list. Afterwards, to extract the main character's name I used NLTK and a function that counts proper nouns to find the most repeated proper noun which becomes my main character. As you can imagine, this isn't a perfect method since we could get \"I\" or \"King's\". I tried to do my best to limit such results, but it isn't perfect. \n",
        "###The Moral Lesson\n",
        "Here, I scraped a random blog post that lists 101 valuable life lessons. I thought this would add a humorous tone to the work as some of the lessons are completely unrelated to the fairytale world, e.g. \"Don’t go into bad debt (debt taken on for consumption)\". Then, I parsed and cleaned the text, and sliced the results to remove any paragraph elements that weren't part of the list. For this part I also used Regular Expressions to remove list numbers (\"1.\"). Unfortunately, there's a bit of hardcoded replacements and removals in this part. I found it difficult to figure out the pronouns, such as turning all you's into a neutral they resulting in \"theyself\"...etc. I left some of the failed RegEx attempts commented if anyone has any suggestions! This part picks a random lesson from the list everytime. \n",
        "###Obstacle\n",
        "My obstacle was basically a villain the main character needs to fight. Which I got from a webpage that lists 10 fairytale villains. The process was similar, I parsed the page and cleaned the strings using replace() and regEx then randomly chose one of the villains listed. \n",
        "###Magic\n",
        "Using an approach almost identical to the one for villains. I scraped a webpage that lists a bunch of superpowers and magical ability, and made a list out of them to pick a random one when the program runs. I relied on random web pages to compliment that \"confused\" \"humorous\" tone of scrambling to make up a random story on the spot!\n",
        "###The Happily Ever After\n",
        "I made sure to end the text generation with a reference to the happily ever after and the fact that the hero beats the villain using the specific superpower. \n",
        "\n",
        "##Presentation\n",
        "I made use of the Sleep() function to create a rhythm for the conversation. I embedded my generated text into human sounding text to really make it feel like you're talking to someone. Obviously, some outputs make it very obvious that this is a bot, such as when the main character is called \"I\", but I think the general feel is quite natural. \n",
        "\n",
        "##Impact\n",
        "I would say the impact is more entertaining and maybe humorous than functional, although it is quite functional sometimes and suggests ideas that could make great fairytales!\n",
        "\n",
        "##Final Reflection\n",
        "While working I realized that RegEx really need a lot of practice, and that the more I do it the more it'll make sense...so I'm excited to do that! However,\n",
        "This was a really fun assignment to work on! It was very rewarding to gradually go through my ideas and realize that there's something in our \"toolbox\" that can help me achieve what I have in mind. \n"
      ]
    },
    {
      "cell_type": "code",
      "metadata": {
        "colab": {
          "base_uri": "https://localhost:8080/"
        },
        "id": "JHOet1s568pf",
        "outputId": "9c31fd54-5645-4c89-deb4-89c64dea2aae"
      },
      "source": [
        "import requests\n",
        "from bs4 import BeautifulSoup\n",
        "import random\n",
        "import nltk\n",
        "import re\n",
        "from time import sleep\n",
        "nltk.download('averaged_perceptron_tagger')\n",
        "from nltk.tag import pos_tag"
      ],
      "execution_count": null,
      "outputs": [
        {
          "output_type": "stream",
          "text": [
            "[nltk_data] Downloading package averaged_perceptron_tagger to\n",
            "[nltk_data]     /root/nltk_data...\n",
            "[nltk_data]   Package averaged_perceptron_tagger is already up-to-\n",
            "[nltk_data]       date!\n"
          ],
          "name": "stdout"
        }
      ]
    },
    {
      "cell_type": "code",
      "metadata": {
        "id": "rPtzdTTvQz-u"
      },
      "source": [
        "fairytaleLinks = [\"Charles_Perrault/Little_Thumb.html#gsc.tab=0\",\"Brothers_Grimm/Margaret_Hunt/The_Story_of_the_Youth_who_Went_Forth_to_Learn_What_Fear_Was.html#gsc.tab=0\",\n",
        "                  \"Charles_Perrault/THE_FAIRY.html#gsc.tab=0\",\"Hans_Christian_Andersen/Andersen_fairy_tale_17.html#gsc.tab=0\",\"Brothers_Grimm/Grimm_fairy_stories/Cinderella.html#gsc.tab=0\"\n",
        "                  \"Brothers_Grimm/Margaret_Hunt/Little_Snow-white.html#gsc.tab=0\",\n",
        "                  \"Hans_Christian_Andersen/Andersen_fairy_tale_17.html#gsc.tab=0\",\"Charles_Perrault/THE_MASTER_CAT,_OR_PUSS_IN_BOOTS.html#gsc.tab=0\",\n",
        "                  \"Brothers_Grimm/Grimm_household_tales/The_Sleeping_Beauty.html#gsc.tab=0\", \"Hans_Christian_Andersen/Andersen_fairy_tale_31.html#gsc.tab=0\",\n",
        "                  \"Hans_Christian_Andersen/Andersen_fairy_tale_47.html#gsc.tab=0\",\"Brothers_Grimm/Grimm_fairy_stories/Snow-White_And_Rose-Red.html#gsc.tab=0\"\n",
        "                  \"Brothers_Grimm/Margaret_Hunt/Hansel_and_Grethel.html#gsc.tab=0\",\"Brothers_Grimm/RUMPELSTILTSKIN.html#gsc.tab=0\"\n",
        "                  \"Brothers_Grimm/THE%20ELVES%20AND%20THE%20SHOEMAKER.html#gsc.tab=0\",\"Brothers_Grimm/THE%20JUNIPER-TREE.html#gsc.tab=0\",\"Brothers_Grimm/THE%20GOLDEN%20GOOSE.html#gsc.tab=0\",\n",
        "                  \"Brothers_Grimm/Margaret_Hunt/The_Frog-King,_or_Iron_Henry.html#gsc.tab=0\",\"Brothers_Grimm/Grimm_fairy_stories/Snow-White_And_Rose-Red.html#gsc.tab=0\"]\n",
        "fairytaleIndex = random.randint(0,(len(fairytaleLinks))-1)"
      ],
      "execution_count": null,
      "outputs": []
    },
    {
      "cell_type": "code",
      "metadata": {
        "id": "l3WXuPtpZCZR"
      },
      "source": [
        ""
      ],
      "execution_count": null,
      "outputs": []
    },
    {
      "cell_type": "code",
      "metadata": {
        "id": "4yLI8vfg7ggc"
      },
      "source": [
        "fairytaleTargetUrl = \"https://www.worldoftales.com/fairy_tales/\" + fairytaleLinks[fairytaleIndex]\n",
        "reqFairytale = requests.get(fairytaleTargetUrl)\n",
        "\n",
        "moralLessonTargetUrl = \"https://daringtolivefully.com/life-lessons\"\n",
        "reqMoralLesson = requests.get(moralLessonTargetUrl)\n",
        "\n",
        "superpowerTargetUrl = \"http://www.superheronation.com/2007/12/30/list-of-superpowers/\"\n",
        "reqSuperpower = requests.get(superpowerTargetUrl)\n",
        "\n",
        "villainTargetUrl = \"https://beat102103.com/life/top-10-fairytale-villains-ranked/\"\n",
        "reqVillain = requests.get(villainTargetUrl)\n",
        "\n"
      ],
      "execution_count": null,
      "outputs": []
    },
    {
      "cell_type": "code",
      "metadata": {
        "id": "91oVeoXK8doW"
      },
      "source": [
        "#FOR CHARACTER\n",
        "soupFairytale = BeautifulSoup(reqFairytale.content, 'html.parser')\n",
        "story = soupFairytale.find_all(\"p\")\n",
        "paragraphs = []\n",
        "for i in story:\n",
        "  content = str(i.text)\n",
        "  content = content.replace(\"\\r\",\" \")\n",
        "  content = content.replace(\"\\n\",\"\")\n",
        "  paragraphs.append(content)\n",
        "  \n",
        "\n",
        "#print(paragraphs)\n",
        "\n",
        "story = \"  \"\n",
        "story = story.join(paragraphs)\n",
        "#print(story)\n",
        "#Code from StackOverflow: https://stackoverflow.com/questions/17669952/finding-proper-nouns-using-nltk-wordnet\n",
        "tagged_sent = pos_tag(story.split())\n",
        "propernouns = [word for word,pos in tagged_sent if pos == 'NNP']\n",
        "\n",
        "#print(propernouns)\n",
        "highestCount = 0\n",
        "#A loop that looks for the most repeated proper noun\n",
        "for i in propernouns:\n",
        "  currentCount = propernouns.count(i)\n",
        "  if currentCount > highestCount:\n",
        "    highestCount = currentCount\n",
        "  \n",
        "\n",
        "countDictionary = {i:propernouns.count(i) for i in propernouns}\n",
        "\n",
        "\n",
        "\n",
        "#Had an issue with this at first as there's no direct function to get the key using the value, so I researched solutions and used this page:\n",
        "# https://www.geeksforgeeks.org/python-get-key-from-value-in-dictionary/\n",
        "def get_key(val):\n",
        "    for key, value in countDictionary.items():\n",
        "         if val == value:\n",
        "             return key\n",
        "\n",
        "        \n",
        "  \n",
        "characterName = get_key(highestCount)\n",
        "#to eliminate instances like \"king's\"\n",
        "characterName = characterName.replace(\"'\", \"\")\n",
        "characterName = characterName.replace('\"', \"\")\n",
        "#print(characterName)\n",
        "\n",
        "\n",
        "\n"
      ],
      "execution_count": null,
      "outputs": []
    },
    {
      "cell_type": "code",
      "metadata": {
        "id": "7oH4DMIgE6av"
      },
      "source": [
        "#FOR MORAL LESSON\n",
        "soupLesson = BeautifulSoup(reqMoralLesson.content, 'html.parser')\n",
        "lessonsHTML = soupLesson.find_all(\"p\")\n",
        "lessons = []\n",
        "for i in lessonsHTML:\n",
        "  content = str(i.text)\n",
        "  content = content.replace(\"\\r\",\" \")\n",
        "  content = content.replace(\"\\n\",\"\")\n",
        "  lessons.append(content)\n",
        "\n",
        "\n",
        "#used .index() to figure out the slicing here:   \n",
        "del lessons[0]\n",
        "del lessons[101:len(lessons)+1]\n",
        "\n",
        "# to make things more convenient :)\n",
        "toRemove = ['2. Don’t postpone joy.',\n",
        "'8. Pay yourself first: save 10% of what you earn.',\n",
        "'10. Don’t go into bad debt (debt taken on for consumption).',\n",
        "'15. Remember Henry Ford’s admonishment: “Whether you think you can or whether you think you can’t, you’re right.”',\n",
        "'19. Don’t smoke. Don’t abuse alcohol. Don’t do drugs.',\n",
        "'36. Don’t take action when you’re angry. Take a moment to calm down and ask yourself if what you’re thinking of doing is really in your best interest.',\n",
        "'38. Worry is a waste of time; it’s a misuse of your imagination.',\n",
        "'44. Don’t gossip. Remember the following quote by Eleanor Roosevelt: “Great minds discuss ideas, average minds discuss events, small minds discuss people.”',\n",
        "'52. Don’t procrastinate; procrastination is the thief of time.',\n",
        " '61. Don’t take yourself too seriously.',\n",
        "'62. During difficult times remember this: “And this too shall pass.”',\n",
        "'63. When things go wrong remember that few things are as bad as they first seem.',\n",
        "'64. Keep in mind that mistakes are stepping stones to success. Success and failure are a team; success is the hero and failure is the sidekick. Don’t be afraid to fail.',\n",
        "'70. If you don’t know the answer, say so; then go and find the answer.',\n",
        "'77. Don’t renege on your promises, whether to others or to yourself.',\n",
        "'80. Don’t worry about what other people think.',\n",
        "'89. Every time you fall simply get back up again.',\n",
        "'95. Don’t argue for your limitations.',\n",
        " '97. Listen to Eleanor Roosevelt’s advice: “No one can make you feel inferior without your consent.”',\n",
        "'99. Remember the motto: “You catch more flies with honey.”']\n",
        "\n",
        "for i in toRemove:\n",
        "  lessons.remove(i)\n",
        "\n",
        "#print(lessons)\n",
        "x = 0\n",
        "strippedLessons = []\n",
        "\n",
        "for i in lessons:\n",
        "  lessons[x] = lessons[x].strip()\n",
        "  #remove any digits + the period after the digits \n",
        "  lessons[x] = re.sub(\"\\d+\"\"[.]\", \"\", i)\n",
        "\n",
        "  #lessons[x] = re.sub(\"n'^Dot\", \"not to\", lessons[x]) // attempt to turn all don't(s) at the beginning of the sentence to \"not to\"\n",
        "\n",
        "  #remove periods ONLY at the end\n",
        "  lessons[x] = re.sub(\"\\.$\", \" \", lessons[x])\n",
        "  \n",
        "  lessons[x] = lessons[x].replace(\"theirs\",\"others'\").replace(\"your\",\"their\").replace(\"you\",\"they\").replace(\"theyself\",\"themselves\").lower()\n",
        "  strippedLessons.append(lessons[x])\n",
        "\n",
        "  x+=1\n",
        "\n",
        "\n",
        "\n",
        "#specifics = {\"you've\":\"they've\",\"theirself\":\"themself\",\"theirs\":\"others'\"} // #an attempt to fix any awkward results due to the replace function above\n",
        "\n",
        "#y = 0\n",
        "#for word in strippedLessons[y]:\n",
        " #   if word.lower() in specifics:\n",
        "  #      srippedLessons = text.replace(word, specifics[word.lower()])\n",
        "   #     y+=1\n",
        "\n",
        "\n",
        "randomLessonIndex = random.randint(0, len(strippedLessons)-1)\n",
        "chosenMoralLesson = strippedLessons[randomLessonIndex]\n",
        "#print(chosenMoralLesson)\n",
        "\n"
      ],
      "execution_count": null,
      "outputs": []
    },
    {
      "cell_type": "code",
      "metadata": {
        "id": "iseyU_pCJqLR"
      },
      "source": [
        "#FOR SUPERPOWER\n",
        "soupSuperpower = BeautifulSoup(reqSuperpower.content, 'html.parser')\n",
        "superpowers = soupSuperpower.find_all(\"li\")\n",
        "allSuperpowers = []\n",
        "for i in superpowers:\n",
        "  content = (str(i.text)).strip()\n",
        "  content = content.replace(\"\\r\",\" \")\n",
        "  content = content.replace(\"\\n\",\" \")\n",
        "  content = content.replace(\"\\t\",\"\")\n",
        "  allSuperpowers.append(content)\n",
        "\n",
        "#allSuperpowers.index('Superstrength')\n",
        "#removing all non-Superpower elements\n",
        "del allSuperpowers[67:len(allSuperpowers)+1]\n",
        "del allSuperpowers[0:5]\n",
        "toRemove2 = ['Skills and/or knowledge  Popular categories: science, mechanical, computer/electronics, weapons-handling/military, driving, occult/magical.',\n",
        "             'Popular categories: science, mechanical, computer/electronics, weapons-handling/military, driving, occult/magical.',\n",
        "             'Resourcefulness (“I’m never more than a carton of baking soda away from a doomsday device”)']\n",
        "\n",
        "for i in toRemove2:\n",
        "  allSuperpowers.remove(i)\n",
        "\n",
        "randomSuperpowerIndex = random.randint(0, len(allSuperpowers)-1)\n",
        "chosenSuperpower = allSuperpowers[randomSuperpowerIndex].lower()\n",
        "#print(chosenSuperpower)\n"
      ],
      "execution_count": null,
      "outputs": []
    },
    {
      "cell_type": "code",
      "metadata": {
        "id": "zKdnoTDsQ_y7"
      },
      "source": [
        "#FOR VILLAIN:\n",
        "soupVillain = BeautifulSoup(reqVillain.content, 'html.parser')\n",
        "villainsHTML = soupVillain.find_all(\"strong\")\n",
        "\n",
        "villains = []\n",
        "for i in villainsHTML:\n",
        "  content = str(i.text)\n",
        "  content = content.replace(\"\\r\",\" \")\n",
        "  content = content.replace(\"\\n\",\"\")\n",
        "  content = content.replace(\"\\xa0\",\" \")\n",
        "  villains.append(content)\n",
        "\n",
        "x = 0\n",
        "for v in villains:\n",
        "  villains[x] = re.sub(\"\\d+\"\"[.]\", \"\", v)\n",
        "  villains[x].strip()\n",
        "  x+=1\n",
        "\n",
        "randomVillainIndex = random.randint(0, len(villains)-1)\n",
        "chosenVillain = villains[randomVillainIndex].lower()\n",
        "#print(chosenVillain)"
      ],
      "execution_count": null,
      "outputs": []
    },
    {
      "cell_type": "code",
      "metadata": {
        "colab": {
          "base_uri": "https://localhost:8080/"
        },
        "id": "dzJTk760Ss87",
        "outputId": "9b894e9b-d900-4962-e06d-13246ab20bfe"
      },
      "source": [
        "print(u\"\\U0001F5E8\"+ \" \" +\"Oh? You're out of bedtime stories to tell?\")\n",
        "sleep(1.5)\n",
        "print(u\"\\U0001F5E8\"+ \" \" +\"hmmm...\")\n",
        "sleep(2)\n",
        "print(u\"\\U0001F5E8\"+ \" \" +\"how about you tell a story about\")\n",
        "sleep(1)\n",
        "print(u\"\\U0001F5E8\"+ \" \" +\".....\")\n",
        "sleep(3)\n",
        "print(u\"\\U0001F5E8\"+ \" \" +characterName+\"?\")\n",
        "sleep(2)\n",
        "print(u\"\\U0001F5E8\"+ \" \" +\"yeah...yeah, tell a story about \" + characterName +\" \" +  \"and how they learnt to...\")\n",
        "sleep(1.5)\n",
        "print(u\"\\U0001F5E8\"+ \" \" +\"I don't know...like..\")\n",
        "sleep(3)\n",
        "print(u\"\\U0001F5E8\"+ \" \" +\"how they learnt to...\" + chosenMoralLesson)\n",
        "sleep(1.5)\n",
        "print(u\"\\U0001F5E8\"+ \" \" +\"Yes! that sounds good I guess.\")\n",
        "sleep(2)\n",
        "print(u\"\\U0001F5E8\"+ \" \" +\"and of course it isn't that easy...it isn't all rainbows and sunshine you know?\")\n",
        "sleep(3)\n",
        "print(u\"\\U0001F5E8\"+ \" \" +\"I don't know... maybe talk about their struggles with...\")\n",
        "sleep(4)\n",
        "print(u\"\\U0001F5E8\"+ \" \" +\"with\" + chosenVillain  + \"...yikes\")\n",
        "sleep(4)\n",
        "print(u\"\\U0001F5E8\"+ \" \" +\"but we need a happily ever after, so maybe say that \" + characterName + \" was able to defeat\" + chosenVillain + \" somehow...\")\n",
        "sleep(5)\n",
        "print(u\"\\U0001F5E8\"+ \" \" +\"like by \" + chosenSuperpower + \" or something...does that make sense?\")\n",
        "sleep(2)\n",
        "print(u\"\\U0001F5E8\"+ \" \" +\"I mean even if it doesn't...that's all I can give you tonight\")\n",
        "sleep(3)\n",
        "print(u\"\\U0001F5E8\"+ \" \" +\"you should practice being imaginative or something...\")\n",
        "sleep(2)\n",
        "print(u\"\\U0001F5E8\"+ \" \" +\"anyways, it's way past bedtime. Go tell your story!\")\n",
        "print(\"\\n\\n\\nERROR:chat disconnected\")"
      ],
      "execution_count": null,
      "outputs": [
        {
          "output_type": "stream",
          "text": [
            "🗨 Oh? You're out of bedtime stories to tell?\n",
            "🗨 hmmm...\n",
            "🗨 how about you tell a story about\n",
            "🗨 .....\n",
            "🗨 Gerda?\n",
            "🗨 yeah...yeah, tell a story about Gerda and how they learnt to...\n",
            "🗨 I don't know...like..\n",
            "🗨 how they learnt to... develop their listening skills \n",
            "🗨 Yes! that sounds good I guess.\n",
            "🗨 and of course it isn't that easy...it isn't all rainbows and sunshine you know?\n",
            "🗨 I don't know... maybe talk about their struggles with...\n",
            "🗨 with the evil queen from snow white...yikes\n",
            "🗨 but we need a happily ever after, so maybe say that Gerda was able to defeat the evil queen from snow white somehow...\n",
            "🗨 like by supersenses  sight/hearing/smell/taste/touch sensing danger (spider-sense) sensing other types of events (dishonesty, murder, etc.) or something...does that make sense?\n",
            "🗨 I mean even if it doesn't...that's all I can give you tonight\n",
            "🗨 you should practice being imaginative or something...\n",
            "🗨 anyways, it's way past bedtime. Go tell your story!\n",
            "\n",
            "\n",
            "\n",
            "ERROR:chat disconnected\n"
          ],
          "name": "stdout"
        }
      ]
    }
  ]
}