{
  "nbformat": 4,
  "nbformat_minor": 0,
  "metadata": {
    "colab": {
      "name": "Software Art: Text - Code Poem",
      "provenance": [],
      "collapsed_sections": [],
      "authorship_tag": "ABX9TyMa0uuI9QtG43KHOaOrDRH4",
      "include_colab_link": true
    },
    "kernelspec": {
      "name": "python3",
      "display_name": "Python 3"
    }
  },
  "cells": [
    {
      "cell_type": "markdown",
      "metadata": {
        "id": "view-in-github",
        "colab_type": "text"
      },
      "source": [
        "<a href=\"https://colab.research.google.com/github/sarahalyahya/SoftwareArt-Text/blob/main/CodePoem_Sketch.ipynb\" target=\"_parent\"><img src=\"https://colab.research.google.com/assets/colab-badge.svg\" alt=\"Open In Colab\"/></a>"
      ]
    },
    {
      "cell_type": "markdown",
      "metadata": {
        "id": "aC55T9Sl75dx"
      },
      "source": [
        "##A Poem in Python | Sarah Al-Yahya\n",
        "####reflections on mental health amidst a pandemic\n",
        "\n"
      ]
    },
    {
      "cell_type": "markdown",
      "metadata": {
        "id": "BEZwdFHc-VMm"
      },
      "source": [
        "To be honest, this exercise was a challenge! Not only is writing a poem a challenge on its own, mixing that with the constraints of code syntax made it a bit more difficult at first, especially because it's hard to picture writing a code that's not meant to run. However, after going through a lot of code poems online I decided to use the Python syntax as my starting point and brainstormed clever ways to play around with it. For example, I looked for words that start with **\"str\"** and **\"int\"** so I can make use of the object types in my poem. I looked at python cheatsheets and then I started writing, and the theme of mental health in the pandemic came up. Quarantine was difficult for many of us, and mental health was often pushed to the side. So, through this code poem I thought I'd highlight some of my thoughts, struggles, and coping mechanisms during that time. \n"
      ]
    },
    {
      "cell_type": "code",
      "metadata": {
        "id": "KCN_kICjcXQR"
      },
      "source": [
        "import time \n",
        "\n",
        "global pandemic \n",
        "and\n",
        "global str uggle  = insideOurHeads\n",
        "\n",
        "int ernal \n",
        "  emotions = 'overwhelming'\n",
        "  minds = 'racing'\n",
        "str uggling = 'to stay'\n",
        "str ong\n",
        "\n",
        "myOverthinkingBrain = ['did i touch my eyes?', 'this person just coughed...','I cannot stand these four walls any longer',\n",
        "                       'wait, who am i?','i kind of forgot how to interact with people', 'awkward...what do they think of me?',\n",
        "                       'am i making the right decisions...?', 'unproductive', 'did i fail in life already?','when will this end?']\n",
        "\n",
        "for thought in  myOverthinkingBrain\n",
        "  panic = thought**1000\n",
        "  break \n",
        "\n",
        "try:\n",
        "  takingABreath()\n",
        "  listeningToYourFavoriteSongs()\n",
        "  writingInYourJournal()\n",
        "except:\n",
        "  ItsaHeavyDayToday()\n",
        "  print(\"So, I will\")\n",
        "  sleep()\n",
        "  for a while\n",
        "  \n",
        "\n",
        "\n",
        "def takingaBreath():\n",
        "  if inhale == true:\n",
        "    exhale = true\n",
        "    inhale = false\n",
        "  elif inhale == false:\n",
        "    inhale = true\n",
        "    exhale = false\n",
        "\n",
        "def listeningtoYourFavoriteSongs():\n",
        "  songs = {'happy': 'song1', 'happy': 'song2', 'will ache your heart': 'song 3' }\n",
        "  if 'will ache your heart' in songs.keys():\n",
        "    skip = true\n",
        "\n",
        "def writingInYourJournal():\n",
        "  while pagesFilled < 10:\n",
        "    fillThisPagewithInternalizedThoughts = true\n",
        "    pagesFilled += 1\n",
        "\n",
        "####################################\n",
        "\n",
        "not hing is for ever\n",
        "  long , \n",
        "  str essful_days = will pass too \n",
        "  \n",
        "hope = \"better days are coming\"\n",
        "\n",
        "print(hope)\n"
      ],
      "execution_count": null,
      "outputs": []
    }
  ]
}